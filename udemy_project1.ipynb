{
  "nbformat": 4,
  "nbformat_minor": 0,
  "metadata": {
    "colab": {
      "name": "udemy-project1.ipynb",
      "provenance": [],
      "toc_visible": true,
      "authorship_tag": "ABX9TyOgfO5g5XrYSyeAYn/EWGVg",
      "include_colab_link": true
    },
    "kernelspec": {
      "name": "python3",
      "display_name": "Python 3"
    },
    "accelerator": "GPU"
  },
  "cells": [
    {
      "cell_type": "markdown",
      "metadata": {
        "id": "view-in-github",
        "colab_type": "text"
      },
      "source": [
        "<a href=\"https://colab.research.google.com/github/mpc97/pytorch/blob/main/udemy_project1.ipynb\" target=\"_parent\"><img src=\"https://colab.research.google.com/assets/colab-badge.svg\" alt=\"Open In Colab\"/></a>"
      ]
    },
    {
      "cell_type": "markdown",
      "metadata": {
        "id": "1cWHiZRcSmzQ"
      },
      "source": [
        "# Project 1"
      ]
    },
    {
      "cell_type": "markdown",
      "metadata": {
        "id": "vWMSYBl2TGXr"
      },
      "source": [
        "## Importing Libraries"
      ]
    },
    {
      "cell_type": "code",
      "metadata": {
        "id": "ijx684j3TYCe"
      },
      "source": [
        "import pandas as pd\n",
        "from sklearn.model_selection import train_test_split\n",
        "import numpy as np\n",
        "import seaborn as sns\n",
        "from sklearn.metrics import confusion_matrix, accuracy_score"
      ],
      "execution_count": 1,
      "outputs": []
    },
    {
      "cell_type": "code",
      "metadata": {
        "id": "Orih2hKNXl3w",
        "outputId": "991eac7a-9e75-40c6-b050-547cb2882174",
        "colab": {
          "base_uri": "https://localhost:8080/",
          "height": 35
        }
      },
      "source": [
        "import torch\n",
        "torch.__version__\n",
        "#!pip install torch==1.4.0"
      ],
      "execution_count": 2,
      "outputs": [
        {
          "output_type": "execute_result",
          "data": {
            "application/vnd.google.colaboratory.intrinsic+json": {
              "type": "string"
            },
            "text/plain": [
              "'1.4.0'"
            ]
          },
          "metadata": {
            "tags": []
          },
          "execution_count": 2
        }
      ]
    },
    {
      "cell_type": "code",
      "metadata": {
        "id": "baYVBgNvfuyG"
      },
      "source": [
        "import torch.nn as nn"
      ],
      "execution_count": 3,
      "outputs": []
    },
    {
      "cell_type": "markdown",
      "metadata": {
        "id": "xE1ed-1XTPls"
      },
      "source": [
        "## Datasets"
      ]
    },
    {
      "cell_type": "code",
      "metadata": {
        "id": "rknaEay_CwnS",
        "outputId": "6fa78ae2-f290-441c-d7f5-61546c599b8b",
        "colab": {
          "base_uri": "https://localhost:8080/",
          "height": 34
        }
      },
      "source": [
        "np.random.seed(123)\n",
        "torch.manual_seed(123)"
      ],
      "execution_count": 4,
      "outputs": [
        {
          "output_type": "execute_result",
          "data": {
            "text/plain": [
              "<torch._C.Generator at 0x7efbf96bdf50>"
            ]
          },
          "metadata": {
            "tags": []
          },
          "execution_count": 4
        }
      ]
    },
    {
      "cell_type": "code",
      "metadata": {
        "id": "NxjhaisWgp2L"
      },
      "source": [
        "predictors = pd.read_csv('/content/entradas_breast.csv')\n",
        "classes = pd.read_csv('/content/saidas_breast.csv')"
      ],
      "execution_count": 5,
      "outputs": []
    },
    {
      "cell_type": "code",
      "metadata": {
        "id": "8RMslmNMg9SE",
        "outputId": "3b18311d-f23e-48cd-8583-55348495c708",
        "colab": {
          "base_uri": "https://localhost:8080/",
          "height": 34
        }
      },
      "source": [
        "predictors.shape"
      ],
      "execution_count": 6,
      "outputs": [
        {
          "output_type": "execute_result",
          "data": {
            "text/plain": [
              "(569, 30)"
            ]
          },
          "metadata": {
            "tags": []
          },
          "execution_count": 6
        }
      ]
    },
    {
      "cell_type": "code",
      "metadata": {
        "id": "ETirQ1S1hFy7",
        "outputId": "378e6c01-4395-4bf0-a370-a886c68db7ad",
        "colab": {
          "base_uri": "https://localhost:8080/",
          "height": 215
        }
      },
      "source": [
        "predictors.head()"
      ],
      "execution_count": 7,
      "outputs": [
        {
          "output_type": "execute_result",
          "data": {
            "text/html": [
              "<div>\n",
              "<style scoped>\n",
              "    .dataframe tbody tr th:only-of-type {\n",
              "        vertical-align: middle;\n",
              "    }\n",
              "\n",
              "    .dataframe tbody tr th {\n",
              "        vertical-align: top;\n",
              "    }\n",
              "\n",
              "    .dataframe thead th {\n",
              "        text-align: right;\n",
              "    }\n",
              "</style>\n",
              "<table border=\"1\" class=\"dataframe\">\n",
              "  <thead>\n",
              "    <tr style=\"text-align: right;\">\n",
              "      <th></th>\n",
              "      <th>radius_mean</th>\n",
              "      <th>texture_mean</th>\n",
              "      <th>perimeter_mean</th>\n",
              "      <th>area_mean</th>\n",
              "      <th>smoothness_mean</th>\n",
              "      <th>compactness_mean</th>\n",
              "      <th>concavity_mean</th>\n",
              "      <th>concave_points_mean</th>\n",
              "      <th>symmetry_mean</th>\n",
              "      <th>fractal_dimension_mean</th>\n",
              "      <th>radius_se</th>\n",
              "      <th>texture_se</th>\n",
              "      <th>perimeter_se</th>\n",
              "      <th>area_se</th>\n",
              "      <th>smoothness_se</th>\n",
              "      <th>compactness_se</th>\n",
              "      <th>concavity_se</th>\n",
              "      <th>concave_points_se</th>\n",
              "      <th>symmetry_se</th>\n",
              "      <th>fractal_dimension_se</th>\n",
              "      <th>radius_worst</th>\n",
              "      <th>texture_worst</th>\n",
              "      <th>perimeter_worst</th>\n",
              "      <th>area_worst</th>\n",
              "      <th>smoothness_worst</th>\n",
              "      <th>compactness_worst</th>\n",
              "      <th>concavity_worst</th>\n",
              "      <th>concave_points_worst</th>\n",
              "      <th>symmetry_worst</th>\n",
              "      <th>fractal_dimension_worst</th>\n",
              "    </tr>\n",
              "  </thead>\n",
              "  <tbody>\n",
              "    <tr>\n",
              "      <th>0</th>\n",
              "      <td>17.99</td>\n",
              "      <td>10.38</td>\n",
              "      <td>122.80</td>\n",
              "      <td>1001.0</td>\n",
              "      <td>0.11840</td>\n",
              "      <td>0.27760</td>\n",
              "      <td>0.3001</td>\n",
              "      <td>0.14710</td>\n",
              "      <td>0.2419</td>\n",
              "      <td>0.07871</td>\n",
              "      <td>1095.0000</td>\n",
              "      <td>0.9053</td>\n",
              "      <td>8589.0</td>\n",
              "      <td>153.40</td>\n",
              "      <td>0.006399</td>\n",
              "      <td>0.04904</td>\n",
              "      <td>0.05373</td>\n",
              "      <td>0.01587</td>\n",
              "      <td>0.03003</td>\n",
              "      <td>0.006193</td>\n",
              "      <td>25.38</td>\n",
              "      <td>17.33</td>\n",
              "      <td>184.60</td>\n",
              "      <td>2019.0</td>\n",
              "      <td>0.1622</td>\n",
              "      <td>0.6656</td>\n",
              "      <td>0.7119</td>\n",
              "      <td>0.2654</td>\n",
              "      <td>0.4601</td>\n",
              "      <td>0.11890</td>\n",
              "    </tr>\n",
              "    <tr>\n",
              "      <th>1</th>\n",
              "      <td>20.57</td>\n",
              "      <td>17.77</td>\n",
              "      <td>132.90</td>\n",
              "      <td>1326.0</td>\n",
              "      <td>0.08474</td>\n",
              "      <td>0.07864</td>\n",
              "      <td>0.0869</td>\n",
              "      <td>0.07017</td>\n",
              "      <td>0.1812</td>\n",
              "      <td>0.05667</td>\n",
              "      <td>0.5435</td>\n",
              "      <td>0.7339</td>\n",
              "      <td>3398.0</td>\n",
              "      <td>74.08</td>\n",
              "      <td>0.005225</td>\n",
              "      <td>0.01308</td>\n",
              "      <td>0.01860</td>\n",
              "      <td>0.01340</td>\n",
              "      <td>0.01389</td>\n",
              "      <td>0.003532</td>\n",
              "      <td>24.99</td>\n",
              "      <td>23.41</td>\n",
              "      <td>158.80</td>\n",
              "      <td>1956.0</td>\n",
              "      <td>0.1238</td>\n",
              "      <td>0.1866</td>\n",
              "      <td>0.2416</td>\n",
              "      <td>186.0000</td>\n",
              "      <td>275.0000</td>\n",
              "      <td>0.08902</td>\n",
              "    </tr>\n",
              "    <tr>\n",
              "      <th>2</th>\n",
              "      <td>19.69</td>\n",
              "      <td>21.25</td>\n",
              "      <td>130.00</td>\n",
              "      <td>1203.0</td>\n",
              "      <td>0.10960</td>\n",
              "      <td>0.15990</td>\n",
              "      <td>0.1974</td>\n",
              "      <td>0.12790</td>\n",
              "      <td>0.2069</td>\n",
              "      <td>0.05999</td>\n",
              "      <td>0.7456</td>\n",
              "      <td>0.7869</td>\n",
              "      <td>4585.0</td>\n",
              "      <td>94.03</td>\n",
              "      <td>0.006150</td>\n",
              "      <td>0.04006</td>\n",
              "      <td>0.03832</td>\n",
              "      <td>0.02058</td>\n",
              "      <td>0.02250</td>\n",
              "      <td>0.004571</td>\n",
              "      <td>23.57</td>\n",
              "      <td>25.53</td>\n",
              "      <td>152.50</td>\n",
              "      <td>1709.0</td>\n",
              "      <td>0.1444</td>\n",
              "      <td>0.4245</td>\n",
              "      <td>0.4504</td>\n",
              "      <td>243.0000</td>\n",
              "      <td>0.3613</td>\n",
              "      <td>0.08758</td>\n",
              "    </tr>\n",
              "    <tr>\n",
              "      <th>3</th>\n",
              "      <td>11.42</td>\n",
              "      <td>20.38</td>\n",
              "      <td>77.58</td>\n",
              "      <td>386.1</td>\n",
              "      <td>0.14250</td>\n",
              "      <td>0.28390</td>\n",
              "      <td>0.2414</td>\n",
              "      <td>0.10520</td>\n",
              "      <td>0.2597</td>\n",
              "      <td>0.09744</td>\n",
              "      <td>0.4956</td>\n",
              "      <td>1156.0000</td>\n",
              "      <td>3445.0</td>\n",
              "      <td>27.23</td>\n",
              "      <td>0.009110</td>\n",
              "      <td>0.07458</td>\n",
              "      <td>0.05661</td>\n",
              "      <td>0.01867</td>\n",
              "      <td>0.05963</td>\n",
              "      <td>0.009208</td>\n",
              "      <td>14.91</td>\n",
              "      <td>26.50</td>\n",
              "      <td>98.87</td>\n",
              "      <td>567.7</td>\n",
              "      <td>0.2098</td>\n",
              "      <td>0.8663</td>\n",
              "      <td>0.6869</td>\n",
              "      <td>0.2575</td>\n",
              "      <td>0.6638</td>\n",
              "      <td>173.00000</td>\n",
              "    </tr>\n",
              "    <tr>\n",
              "      <th>4</th>\n",
              "      <td>20.29</td>\n",
              "      <td>14.34</td>\n",
              "      <td>135.10</td>\n",
              "      <td>1297.0</td>\n",
              "      <td>0.10030</td>\n",
              "      <td>0.13280</td>\n",
              "      <td>198.0000</td>\n",
              "      <td>0.10430</td>\n",
              "      <td>0.1809</td>\n",
              "      <td>0.05883</td>\n",
              "      <td>0.7572</td>\n",
              "      <td>0.7813</td>\n",
              "      <td>5438.0</td>\n",
              "      <td>94.44</td>\n",
              "      <td>0.011490</td>\n",
              "      <td>0.02461</td>\n",
              "      <td>0.05688</td>\n",
              "      <td>0.01885</td>\n",
              "      <td>0.01756</td>\n",
              "      <td>0.005115</td>\n",
              "      <td>22.54</td>\n",
              "      <td>16.67</td>\n",
              "      <td>152.20</td>\n",
              "      <td>1575.0</td>\n",
              "      <td>0.1374</td>\n",
              "      <td>205.0000</td>\n",
              "      <td>0.4000</td>\n",
              "      <td>0.1625</td>\n",
              "      <td>0.2364</td>\n",
              "      <td>0.07678</td>\n",
              "    </tr>\n",
              "  </tbody>\n",
              "</table>\n",
              "</div>"
            ],
            "text/plain": [
              "    radius_mean   texture_mean  ...   symmetry_worst   fractal_dimension_worst\n",
              "0         17.99          10.38  ...           0.4601                   0.11890\n",
              "1         20.57          17.77  ...         275.0000                   0.08902\n",
              "2         19.69          21.25  ...           0.3613                   0.08758\n",
              "3         11.42          20.38  ...           0.6638                 173.00000\n",
              "4         20.29          14.34  ...           0.2364                   0.07678\n",
              "\n",
              "[5 rows x 30 columns]"
            ]
          },
          "metadata": {
            "tags": []
          },
          "execution_count": 7
        }
      ]
    },
    {
      "cell_type": "code",
      "metadata": {
        "id": "6bUDJFwOhSuF",
        "outputId": "1a0184e2-753e-4e04-d7d6-5ee1fcce3a01",
        "colab": {
          "base_uri": "https://localhost:8080/",
          "height": 34
        }
      },
      "source": [
        "classes.shape"
      ],
      "execution_count": 8,
      "outputs": [
        {
          "output_type": "execute_result",
          "data": {
            "text/plain": [
              "(569, 1)"
            ]
          },
          "metadata": {
            "tags": []
          },
          "execution_count": 8
        }
      ]
    },
    {
      "cell_type": "code",
      "metadata": {
        "id": "EW3sA_klhVk2",
        "outputId": "f3e13573-25fb-4240-d1ce-472d6da97e03",
        "colab": {
          "base_uri": "https://localhost:8080/",
          "height": 195
        }
      },
      "source": [
        "classes.head()"
      ],
      "execution_count": 9,
      "outputs": [
        {
          "output_type": "execute_result",
          "data": {
            "text/html": [
              "<div>\n",
              "<style scoped>\n",
              "    .dataframe tbody tr th:only-of-type {\n",
              "        vertical-align: middle;\n",
              "    }\n",
              "\n",
              "    .dataframe tbody tr th {\n",
              "        vertical-align: top;\n",
              "    }\n",
              "\n",
              "    .dataframe thead th {\n",
              "        text-align: right;\n",
              "    }\n",
              "</style>\n",
              "<table border=\"1\" class=\"dataframe\">\n",
              "  <thead>\n",
              "    <tr style=\"text-align: right;\">\n",
              "      <th></th>\n",
              "      <th>0</th>\n",
              "    </tr>\n",
              "  </thead>\n",
              "  <tbody>\n",
              "    <tr>\n",
              "      <th>0</th>\n",
              "      <td>0</td>\n",
              "    </tr>\n",
              "    <tr>\n",
              "      <th>1</th>\n",
              "      <td>0</td>\n",
              "    </tr>\n",
              "    <tr>\n",
              "      <th>2</th>\n",
              "      <td>0</td>\n",
              "    </tr>\n",
              "    <tr>\n",
              "      <th>3</th>\n",
              "      <td>0</td>\n",
              "    </tr>\n",
              "    <tr>\n",
              "      <th>4</th>\n",
              "      <td>0</td>\n",
              "    </tr>\n",
              "  </tbody>\n",
              "</table>\n",
              "</div>"
            ],
            "text/plain": [
              "   0\n",
              "0  0\n",
              "1  0\n",
              "2  0\n",
              "3  0\n",
              "4  0"
            ]
          },
          "metadata": {
            "tags": []
          },
          "execution_count": 9
        }
      ]
    },
    {
      "cell_type": "code",
      "metadata": {
        "id": "JTaUPZDjhdOu",
        "outputId": "bc1c1508-74e0-4742-fd65-8efaf7895e64",
        "colab": {
          "base_uri": "https://localhost:8080/",
          "height": 34
        }
      },
      "source": [
        "np.unique(classes)"
      ],
      "execution_count": 11,
      "outputs": [
        {
          "output_type": "execute_result",
          "data": {
            "text/plain": [
              "array([0, 1])"
            ]
          },
          "metadata": {
            "tags": []
          },
          "execution_count": 11
        }
      ]
    },
    {
      "cell_type": "code",
      "metadata": {
        "id": "Nfav9UtDhjbo",
        "outputId": "1eb1b34e-b7bd-47fe-e88e-b49daec78621",
        "colab": {
          "base_uri": "https://localhost:8080/",
          "height": 333
        }
      },
      "source": [
        "sns.countplot(classes['0']); # O ; no final elimina a mensagem do matplotlib"
      ],
      "execution_count": 13,
      "outputs": [
        {
          "output_type": "stream",
          "text": [
            "/usr/local/lib/python3.6/dist-packages/seaborn/_decorators.py:43: FutureWarning: Pass the following variable as a keyword arg: x. From version 0.12, the only valid positional argument will be `data`, and passing other arguments without an explicit keyword will result in an error or misinterpretation.\n",
            "  FutureWarning\n"
          ],
          "name": "stderr"
        },
        {
          "output_type": "display_data",
          "data": {
            "image/png": "[encoded data removed]",
            "text/plain": [
              "<Figure size 432x288 with 1 Axes>"
            ]
          },
          "metadata": {
            "tags": [],
            "needs_background": "light"
          }
        }
      ]
    },
    {
      "cell_type": "code",
      "metadata": {
        "id": "4zb0oCR9iViR"
      },
      "source": [
        "predictors_train, predictors_test, classes_train, classes_test = train_test_split(predictors,\n",
        "                                                                                  classes,\n",
        "                                                                                  test_size=0.25)"
      ],
      "execution_count": 14,
      "outputs": []
    },
    {
      "cell_type": "code",
      "metadata": {
        "id": "DE_c2OnSizFG",
        "outputId": "52fa6910-e2b9-4f55-b514-ca1c421bb837",
        "colab": {
          "base_uri": "https://localhost:8080/",
          "height": 34
        }
      },
      "source": [
        "predictors_train.shape"
      ],
      "execution_count": 15,
      "outputs": [
        {
          "output_type": "execute_result",
          "data": {
            "text/plain": [
              "(426, 30)"
            ]
          },
          "metadata": {
            "tags": []
          },
          "execution_count": 15
        }
      ]
    },
    {
      "cell_type": "code",
      "metadata": {
        "id": "6XgAuTRsi68I",
        "outputId": "1cb7cd18-3c4c-4dab-8874-34a14dd2556d",
        "colab": {
          "base_uri": "https://localhost:8080/",
          "height": 34
        }
      },
      "source": [
        "classes_train.shape"
      ],
      "execution_count": 16,
      "outputs": [
        {
          "output_type": "execute_result",
          "data": {
            "text/plain": [
              "(426, 1)"
            ]
          },
          "metadata": {
            "tags": []
          },
          "execution_count": 16
        }
      ]
    },
    {
      "cell_type": "code",
      "metadata": {
        "id": "HWeoWKM8jShM",
        "outputId": "fda5ab8b-fa2c-4c98-f4bc-08b04444a945",
        "colab": {
          "base_uri": "https://localhost:8080/",
          "height": 34
        }
      },
      "source": [
        "predictors_test.shape"
      ],
      "execution_count": 17,
      "outputs": [
        {
          "output_type": "execute_result",
          "data": {
            "text/plain": [
              "(143, 30)"
            ]
          },
          "metadata": {
            "tags": []
          },
          "execution_count": 17
        }
      ]
    },
    {
      "cell_type": "code",
      "metadata": {
        "id": "_bENOkeajUlw",
        "outputId": "2374ff03-6dfd-44db-cbd4-d9fe6cef2536",
        "colab": {
          "base_uri": "https://localhost:8080/",
          "height": 34
        }
      },
      "source": [
        "classes_test.shape"
      ],
      "execution_count": 18,
      "outputs": [
        {
          "output_type": "execute_result",
          "data": {
            "text/plain": [
              "(143, 1)"
            ]
          },
          "metadata": {
            "tags": []
          },
          "execution_count": 18
        }
      ]
    },
    {
      "cell_type": "markdown",
      "metadata": {
        "id": "jSXCnbdHjn50"
      },
      "source": [
        "## Transforming Data -> Tensors"
      ]
    },
    {
      "cell_type": "code",
      "metadata": {
        "id": "nPrTDAuNjyuC",
        "outputId": "028e550e-64b9-4fef-8764-d20dcda5e607",
        "colab": {
          "base_uri": "https://localhost:8080/",
          "height": 34
        }
      },
      "source": [
        "type(predictors_train)"
      ],
      "execution_count": 21,
      "outputs": [
        {
          "output_type": "execute_result",
          "data": {
            "text/plain": [
              "pandas.core.frame.DataFrame"
            ]
          },
          "metadata": {
            "tags": []
          },
          "execution_count": 21
        }
      ]
    },
    {
      "cell_type": "code",
      "metadata": {
        "id": "A7OnU9xwkGiv",
        "outputId": "6c409538-53fc-4c69-ddb5-72f7dbc6b379",
        "colab": {
          "base_uri": "https://localhost:8080/",
          "height": 34
        }
      },
      "source": [
        "type(np.array(predictors_train))"
      ],
      "execution_count": 20,
      "outputs": [
        {
          "output_type": "execute_result",
          "data": {
            "text/plain": [
              "numpy.ndarray"
            ]
          },
          "metadata": {
            "tags": []
          },
          "execution_count": 20
        }
      ]
    },
    {
      "cell_type": "code",
      "metadata": {
        "id": "zaqHKkq0FdHe"
      },
      "source": [
        "predictors_train = torch.tensor(np.array(predictors_train), dtype=torch.float) # redefenimos a variável para podermos usar tensors\n",
        "classes_train = torch.tensor(np.array(classes_train), dtype=torch.float)"
      ],
      "execution_count": 22,
      "outputs": []
    },
    {
      "cell_type": "code",
      "metadata": {
        "id": "4SrNzY0jGP9t",
        "outputId": "b6747f9d-4953-4057-d9d3-36576fea21ca",
        "colab": {
          "base_uri": "https://localhost:8080/",
          "height": 34
        }
      },
      "source": [
        "type(predictors_train)"
      ],
      "execution_count": 23,
      "outputs": [
        {
          "output_type": "execute_result",
          "data": {
            "text/plain": [
              "torch.Tensor"
            ]
          },
          "metadata": {
            "tags": []
          },
          "execution_count": 23
        }
      ]
    },
    {
      "cell_type": "code",
      "metadata": {
        "id": "_ilEJTk8GTSr",
        "outputId": "4fd1ec00-dbc0-4b16-a13d-f0d96937d895",
        "colab": {
          "base_uri": "https://localhost:8080/",
          "height": 34
        }
      },
      "source": [
        "type(classes_train)"
      ],
      "execution_count": 24,
      "outputs": [
        {
          "output_type": "execute_result",
          "data": {
            "text/plain": [
              "torch.Tensor"
            ]
          },
          "metadata": {
            "tags": []
          },
          "execution_count": 24
        }
      ]
    },
    {
      "cell_type": "code",
      "metadata": {
        "id": "ECtYQqGbGWeg"
      },
      "source": [
        "dataset = torch.utils.data.TensorDataset(predictors_train, classes_train)"
      ],
      "execution_count": 25,
      "outputs": []
    },
    {
      "cell_type": "code",
      "metadata": {
        "id": "ZZfHP23iG63T",
        "outputId": "f8e62edf-83b3-407f-eb79-f17f59a9d15e",
        "colab": {
          "base_uri": "https://localhost:8080/",
          "height": 34
        }
      },
      "source": [
        "type(dataset)"
      ],
      "execution_count": 26,
      "outputs": [
        {
          "output_type": "execute_result",
          "data": {
            "text/plain": [
              "torch.utils.data.dataset.TensorDataset"
            ]
          },
          "metadata": {
            "tags": []
          },
          "execution_count": 26
        }
      ]
    },
    {
      "cell_type": "code",
      "metadata": {
        "id": "LuxZ3uzwHFV-"
      },
      "source": [
        "train_loader = torch.utils.data.DataLoader(dataset, batch_size=10, shuffle=True) "
      ],
      "execution_count": 27,
      "outputs": []
    },
    {
      "cell_type": "markdown",
      "metadata": {
        "id": "kot9LxWzH4ZK"
      },
      "source": [
        "## Building The Model"
      ]
    },
    {
      "cell_type": "code",
      "metadata": {
        "id": "q2T6s0p9IF6E"
      },
      "source": [
        "# 30 (30 atributos / features) -> 16 -> 16 -> 1 (classificação binária => 1 output unit that returns a probability)\n",
        "# (input units + output units) / 2 = (30 + 1) / 2 = 16\n",
        "\n",
        "classifier = nn.Sequential(\n",
        "    nn.Linear(in_features=30, out_features=16),\n",
        "    nn.ReLU(),\n",
        "    nn.Linear(16, 16),\n",
        "    nn.ReLU(),\n",
        "    nn.Linear(16, 1),\n",
        "    nn.Sigmoid()\n",
        ")"
      ],
      "execution_count": 28,
      "outputs": []
    },
    {
      "cell_type": "code",
      "metadata": {
        "id": "0s8wYzEDKIk8",
        "outputId": "01e9d2b2-6dcd-40b9-ae4d-ad99caea9d66",
        "colab": {
          "base_uri": "https://localhost:8080/",
          "height": 151
        }
      },
      "source": [
        "classifier.parameters"
      ],
      "execution_count": 29,
      "outputs": [
        {
          "output_type": "execute_result",
          "data": {
            "text/plain": [
              "<bound method Module.parameters of Sequential(\n",
              "  (0): Linear(in_features=30, out_features=16, bias=True)\n",
              "  (1): ReLU()\n",
              "  (2): Linear(in_features=16, out_features=16, bias=True)\n",
              "  (3): ReLU()\n",
              "  (4): Linear(in_features=16, out_features=1, bias=True)\n",
              "  (5): Sigmoid()\n",
              ")>"
            ]
          },
          "metadata": {
            "tags": []
          },
          "execution_count": 29
        }
      ]
    },
    {
      "cell_type": "code",
      "metadata": {
        "id": "PhR-vte0KWcc"
      },
      "source": [
        "criterion = nn.BCELoss()"
      ],
      "execution_count": 30,
      "outputs": []
    },
    {
      "cell_type": "code",
      "metadata": {
        "id": "2O_dMRUzKeCi"
      },
      "source": [
        "optimizer = torch.optim.Adam(classifier.parameters(), lr=0.001, weight_decay=0.0001)"
      ],
      "execution_count": 31,
      "outputs": []
    },
    {
      "cell_type": "markdown",
      "metadata": {
        "id": "RMytzq3lPA8O"
      },
      "source": [
        "## Training the Model"
      ]
    },
    {
      "cell_type": "code",
      "metadata": {
        "id": "Mt1fmLkPPFAP",
        "outputId": "320fb7df-78da-4277-b023-0000f34c3df0",
        "colab": {
          "base_uri": "https://localhost:8080/",
          "height": 1000
        }
      },
      "source": [
        "# Tensorflow or Keras already have a fit method that trains the model\n",
        "\n",
        "for epoch in range(100):\n",
        "  running_loss = 0.\n",
        "\n",
        "  for data in train_loader:\n",
        "    inputs, labels = data\n",
        "    #print(inputs)\n",
        "    #print('------')\n",
        "    #print(labels)\n",
        "    optimizer.zero_grad() # zerar valores acumulados\n",
        "    outputs = classifier(inputs) # same as calling method classifier.forward(inputs)\n",
        "    #print(outputs)\n",
        "    loss = criterion(outputs, labels) # calculating the loss here\n",
        "    #print(loss)\n",
        "    loss.backward()\n",
        "    optimizer.step()\n",
        "    running_loss += loss.item()\n",
        "\n",
        "  print('Epoch %3d: loss = %.5f' % (epoch+1, running_loss/len(train_loader)))"
      ],
      "execution_count": 35,
      "outputs": [
        {
          "output_type": "stream",
          "text": [
            "Epoch   1: loss = 5.92794\n",
            "Epoch   2: loss = 3.24339\n",
            "Epoch   3: loss = 0.85878\n",
            "Epoch   4: loss = 0.61167\n",
            "Epoch   5: loss = 0.47035\n",
            "Epoch   6: loss = 0.44825\n",
            "Epoch   7: loss = 0.44102\n",
            "Epoch   8: loss = 0.43400\n",
            "Epoch   9: loss = 0.40682\n",
            "Epoch  10: loss = 0.44500\n",
            "Epoch  11: loss = 0.38726\n",
            "Epoch  12: loss = 0.35729\n",
            "Epoch  13: loss = 0.36799\n",
            "Epoch  14: loss = 0.33528\n",
            "Epoch  15: loss = 0.33873\n",
            "Epoch  16: loss = 0.32963\n",
            "Epoch  17: loss = 0.31916\n",
            "Epoch  18: loss = 0.34986\n",
            "Epoch  19: loss = 0.31919\n",
            "Epoch  20: loss = 0.28395\n",
            "Epoch  21: loss = 0.32570\n",
            "Epoch  22: loss = 0.28807\n",
            "Epoch  23: loss = 0.31152\n",
            "Epoch  24: loss = 0.31926\n",
            "Epoch  25: loss = 0.30136\n",
            "Epoch  26: loss = 0.31308\n",
            "Epoch  27: loss = 0.28840\n",
            "Epoch  28: loss = 0.29021\n",
            "Epoch  29: loss = 0.27712\n",
            "Epoch  30: loss = 0.28186\n",
            "Epoch  31: loss = 0.27286\n",
            "Epoch  32: loss = 0.28323\n",
            "Epoch  33: loss = 0.28469\n",
            "Epoch  34: loss = 0.26491\n",
            "Epoch  35: loss = 0.31017\n",
            "Epoch  36: loss = 0.28422\n",
            "Epoch  37: loss = 0.27385\n",
            "Epoch  38: loss = 0.26538\n",
            "Epoch  39: loss = 0.19062\n",
            "Epoch  40: loss = 0.23383\n",
            "Epoch  41: loss = 0.20481\n",
            "Epoch  42: loss = 0.24205\n",
            "Epoch  43: loss = 0.18666\n",
            "Epoch  44: loss = 0.19334\n",
            "Epoch  45: loss = 0.18755\n",
            "Epoch  46: loss = 0.19795\n",
            "Epoch  47: loss = 0.19190\n",
            "Epoch  48: loss = 0.17470\n",
            "Epoch  49: loss = 0.23023\n",
            "Epoch  50: loss = 0.21785\n",
            "Epoch  51: loss = 0.19129\n",
            "Epoch  52: loss = 0.18188\n",
            "Epoch  53: loss = 0.18511\n",
            "Epoch  54: loss = 0.21382\n",
            "Epoch  55: loss = 0.22014\n",
            "Epoch  56: loss = 0.16676\n",
            "Epoch  57: loss = 0.16043\n",
            "Epoch  58: loss = 0.15890\n",
            "Epoch  59: loss = 0.14730\n",
            "Epoch  60: loss = 0.16022\n",
            "Epoch  61: loss = 0.17932\n",
            "Epoch  62: loss = 0.16576\n",
            "Epoch  63: loss = 0.15869\n",
            "Epoch  64: loss = 0.16508\n",
            "Epoch  65: loss = 0.17197\n",
            "Epoch  66: loss = 0.14224\n",
            "Epoch  67: loss = 0.15086\n",
            "Epoch  68: loss = 0.14745\n",
            "Epoch  69: loss = 0.16283\n",
            "Epoch  70: loss = 0.15215\n",
            "Epoch  71: loss = 0.15091\n",
            "Epoch  72: loss = 0.15458\n",
            "Epoch  73: loss = 0.17409\n",
            "Epoch  74: loss = 0.23503\n",
            "Epoch  75: loss = 0.16124\n",
            "Epoch  76: loss = 0.13621\n",
            "Epoch  77: loss = 0.12656\n",
            "Epoch  78: loss = 0.13896\n",
            "Epoch  79: loss = 0.12824\n",
            "Epoch  80: loss = 0.12939\n",
            "Epoch  81: loss = 0.14604\n",
            "Epoch  82: loss = 0.13148\n",
            "Epoch  83: loss = 0.12617\n",
            "Epoch  84: loss = 0.18003\n",
            "Epoch  85: loss = 0.16897\n",
            "Epoch  86: loss = 0.12819\n",
            "Epoch  87: loss = 0.13626\n",
            "Epoch  88: loss = 0.12659\n",
            "Epoch  89: loss = 0.11772\n",
            "Epoch  90: loss = 0.14879\n",
            "Epoch  91: loss = 0.15074\n",
            "Epoch  92: loss = 0.16504\n",
            "Epoch  93: loss = 0.15170\n",
            "Epoch  94: loss = 0.13966\n",
            "Epoch  95: loss = 0.12514\n",
            "Epoch  96: loss = 0.12232\n",
            "Epoch  97: loss = 0.11291\n",
            "Epoch  98: loss = 0.14581\n",
            "Epoch  99: loss = 0.13746\n",
            "Epoch 100: loss = 0.12448\n"
          ],
          "name": "stdout"
        }
      ]
    },
    {
      "cell_type": "markdown",
      "metadata": {
        "id": "Y0H6wGAHbRNA"
      },
      "source": [
        "## Visualizing the Weights"
      ]
    },
    {
      "cell_type": "code",
      "metadata": {
        "id": "1qBe31-ubUl0",
        "outputId": "71d3014c-f00d-422d-80c7-738e9fb4ae7e",
        "colab": {
          "base_uri": "https://localhost:8080/",
          "height": 1000
        }
      },
      "source": [
        "# Remembering 30 -> 16 -> 16 -> 1\n",
        "\n",
        "params = list(classifier.parameters())\n",
        "print(params)"
      ],
      "execution_count": 37,
      "outputs": [
        {
          "output_type": "stream",
          "text": [
            "[Parameter containing:\n",
            "tensor([[-2.1691e-01, -1.6953e-01, -2.1162e-01,  4.1027e-02, -4.8567e-02,\n",
            "          7.1689e-02,  8.0329e-02, -1.3262e-01, -2.1249e-01,  2.9104e-01,\n",
            "         -4.8975e-02,  5.7479e-02, -1.0478e-01, -8.4665e-02, -4.7074e-04,\n",
            "         -2.7648e-01, -6.2739e-01, -6.2130e-02,  1.1480e-01,  3.2016e-03,\n",
            "         -3.0342e-02, -1.3882e-01, -7.1458e-02,  1.2867e-01,  4.2950e-01,\n",
            "          1.3945e-01, -1.3442e-01,  3.6647e-02,  2.5920e-01,  4.8288e-02],\n",
            "        [ 1.9285e-01,  2.1470e-01,  2.8646e-01,  1.0002e-01, -1.3017e-01,\n",
            "         -8.3916e-02, -4.5063e-02, -8.6925e-02, -1.5932e-03,  2.2462e-01,\n",
            "         -5.4426e-02, -1.1319e-01,  5.1726e-04,  1.7627e-01, -2.7512e-03,\n",
            "         -5.9564e-02, -2.3306e-02,  2.2674e-01,  1.4708e-01, -9.8360e-03,\n",
            "          9.2020e-02,  7.1132e-02,  1.8902e-01,  1.1297e-02,  6.7670e-02,\n",
            "         -2.0629e-01, -1.6052e-01,  5.8800e-02, -5.2096e-02, -1.6387e-01],\n",
            "        [-7.7391e-03, -1.0450e-02, -2.1673e-01, -9.0349e-02, -2.8732e-02,\n",
            "          6.3146e-02,  6.1570e-02,  3.1410e-02, -6.5502e-02,  3.0468e-01,\n",
            "          1.5099e-01,  9.0985e-02, -1.1834e-01,  2.5023e-02,  1.4740e-03,\n",
            "         -3.2115e-01,  4.6760e-02,  3.4715e-03,  3.9441e-01,  6.5152e-04,\n",
            "          4.3141e-02, -1.3703e-01, -5.5785e-02,  1.2435e-02, -3.0033e-01,\n",
            "         -6.6011e-02, -1.3972e-01,  1.3376e-01,  5.5897e-02, -2.9398e-02],\n",
            "        [-3.7169e-01,  4.6879e-02, -1.5426e-01,  8.9751e-02, -1.1911e-01,\n",
            "         -4.5364e-02, -5.3034e-03,  4.0785e-02,  1.3773e-01, -1.4255e-01,\n",
            "          1.6626e-01, -1.5403e-01,  3.8973e-02,  4.8138e-02,  1.7413e-03,\n",
            "          1.7726e-02,  1.8169e-02, -3.0362e-02,  1.7719e-01,  4.0879e-03,\n",
            "         -6.4660e-02, -1.5627e-01, -7.7957e-02,  1.4248e-02,  1.0963e-01,\n",
            "          6.6093e-02,  4.5448e-02,  2.6355e-01,  7.3603e-02,  4.3129e-01],\n",
            "        [-4.0406e-01, -2.5721e-02, -1.0891e-01, -1.4500e-01,  3.9089e-01,\n",
            "          1.3328e-01,  1.1745e-01, -3.3946e-01, -3.1069e-01,  2.6109e-01,\n",
            "         -1.7288e-01,  3.1555e-02, -1.2134e-02,  7.7385e-02,  3.0406e-02,\n",
            "         -3.4571e-01, -1.5370e-01, -2.3481e-01,  3.9032e-01,  2.2931e-01,\n",
            "         -2.6718e-01, -6.4778e-03, -1.4394e-01,  2.3356e-01,  2.6073e-02,\n",
            "         -8.8365e-02, -5.0443e-01, -2.5591e-01, -7.8112e-04,  4.9081e-01],\n",
            "        [ 1.3356e-02, -3.4050e-02,  1.0100e-01,  1.1728e-01,  1.4234e-01,\n",
            "          3.6978e-01, -7.2777e-02,  1.9577e-01,  2.1321e-01, -1.0333e-01,\n",
            "          1.0551e-01,  1.6053e-01, -1.1676e-01,  1.3373e-01, -1.6706e-03,\n",
            "          3.8041e-01,  1.7752e-01,  1.2159e-01, -2.2544e-01, -1.4297e-01,\n",
            "          8.2118e-02, -2.0330e-01,  2.4694e-02, -2.2950e-02,  3.1103e-02,\n",
            "         -7.4131e-02, -9.7655e-02,  7.2991e-02,  5.4394e-02, -2.6469e-01],\n",
            "        [ 2.1266e-01,  1.3008e-02,  3.1869e-01, -1.0963e-01, -2.9226e-01,\n",
            "         -1.5362e-01, -1.9892e-02,  5.0424e-02,  2.1501e-01,  1.5071e-02,\n",
            "         -1.1751e-01, -2.1853e-01,  5.7788e-02,  1.1566e-01, -7.7002e-04,\n",
            "         -2.3803e-02,  3.8741e-02, -9.9040e-03,  3.7134e-01, -5.5283e-03,\n",
            "          1.2736e-01, -8.0627e-02,  2.0390e-01, -1.0900e-01, -2.1792e-01,\n",
            "          1.4006e-01,  1.9782e-01, -1.9000e-01, -2.6952e-01,  3.8057e-02],\n",
            "        [-2.8675e-01, -3.8504e-02, -1.3592e-01, -1.6934e-01,  2.4882e-01,\n",
            "          5.6289e-02, -2.2765e-02, -2.9625e-02, -1.5723e-01, -5.3103e-02,\n",
            "         -1.1365e-01, -1.0867e-01,  8.1326e-02,  9.3566e-02, -2.0048e-03,\n",
            "         -1.2424e-02, -1.1608e-01,  1.2357e-01, -2.9775e-01,  4.7588e-03,\n",
            "         -2.0329e-01,  5.8938e-02, -2.8326e-01,  1.0735e-01, -1.1281e-01,\n",
            "         -7.1199e-02,  6.1989e-02,  9.4118e-04, -5.4991e-02,  4.1320e-02],\n",
            "        [ 2.6310e-02, -1.2925e-01, -3.7529e-01, -4.0874e-02,  3.4777e-01,\n",
            "          1.4374e-01, -4.3709e-01, -9.2318e-02,  1.9245e-01, -8.5032e-02,\n",
            "          1.5499e-01, -7.9943e-02,  1.1386e-01,  6.1337e-03,  7.3821e-03,\n",
            "          4.9287e-02, -5.8465e-02, -3.7839e-01,  3.8087e-01,  2.3224e-02,\n",
            "         -2.1886e-01,  1.1107e-02, -2.7856e-01,  2.2571e-01,  1.5090e-01,\n",
            "          1.2356e-01, -5.8795e-02,  2.3766e-01,  1.1521e-01,  2.7853e-01],\n",
            "        [-8.7271e-03,  1.5813e-01,  3.0288e-01,  1.5016e-02, -2.8050e-01,\n",
            "         -1.4325e-01, -5.3229e-02,  1.1170e-01, -2.7302e-02,  5.1054e-02,\n",
            "          1.1810e-01, -1.7160e-01,  1.5603e-01, -2.5863e-01, -8.2127e-03,\n",
            "          9.9019e-02,  2.4027e-01,  1.8472e-01,  1.4198e-01, -2.2997e-01,\n",
            "          1.9520e-01, -1.3871e-01,  3.1924e-01, -8.5996e-02,  2.1187e-02,\n",
            "          4.7288e-02,  1.3599e-02, -1.3586e-01,  9.5487e-02, -2.0151e-01],\n",
            "        [-8.4713e-02,  3.6925e-02,  8.3781e-02,  1.2586e-02, -3.7918e-02,\n",
            "         -6.7847e-02, -7.4526e-02, -1.2271e-01,  1.4535e-01,  2.3062e-03,\n",
            "         -6.2940e-02,  4.2449e-04, -1.1056e-01,  1.8411e-01, -2.2434e-03,\n",
            "         -2.3891e-01, -4.5094e-02, -1.4564e-01, -1.9788e-01, -1.5357e-03,\n",
            "         -1.6615e-01, -2.0906e-02,  8.9885e-02,  1.2563e-01,  2.9212e-01,\n",
            "         -4.0260e-01,  2.9932e-01,  2.1790e-01, -1.6421e-01,  1.5110e-05],\n",
            "        [ 9.0729e-02, -3.7222e-02,  1.0722e-01,  1.3199e-01, -3.0497e-02,\n",
            "          3.5126e-01, -1.5554e-01,  1.6551e-01,  1.9558e-01, -1.7115e-01,\n",
            "          9.3587e-03,  8.8340e-02, -1.8632e-02, -3.3677e-01, -1.6941e-02,\n",
            "          5.3056e-01,  5.7412e-02,  4.2663e-01, -1.8495e-01, -2.3752e-01,\n",
            "          2.0819e-01, -7.7501e-02,  2.8284e-01, -1.4764e-01, -3.0477e-01,\n",
            "          1.2661e-01, -1.2021e-02, -1.2761e-02,  1.2600e-01, -4.5989e-01],\n",
            "        [ 1.1820e-01,  9.3685e-02, -2.8378e-01, -7.2141e-02,  1.9439e-01,\n",
            "          1.6830e-01,  2.3930e-01,  6.7901e-03, -7.5279e-02, -2.1543e-01,\n",
            "          1.3046e-01, -5.1667e-02,  1.0793e-01,  9.4207e-02,  5.3389e-05,\n",
            "         -4.6706e-02, -9.8082e-03, -5.3374e-03, -3.5472e-01,  2.0810e-01,\n",
            "          6.6061e-02,  1.9335e-01, -4.1411e-02,  4.5394e-02, -1.1975e-01,\n",
            "          8.4119e-02, -4.6768e-02, -1.3712e-01,  4.2929e-02,  3.1409e-01],\n",
            "        [ 9.3903e-02, -1.0137e-01, -1.1045e-01,  1.1843e-02,  1.0902e-02,\n",
            "         -3.6783e-02, -1.2289e-01,  7.6017e-02, -8.3862e-02, -1.9902e-01,\n",
            "          1.6041e-01, -8.4592e-02, -1.5870e-01,  1.2535e-01,  2.1719e-03,\n",
            "          1.1112e-02,  1.4812e-01, -2.1761e-01,  4.5662e-01,  2.1494e-03,\n",
            "          1.3319e-01, -2.1982e-02, -8.6457e-02,  1.4490e-01, -6.5905e-02,\n",
            "         -1.0874e-01, -7.3156e-02,  8.5436e-02,  6.4671e-02, -1.2746e-02],\n",
            "        [ 4.6888e-02, -8.6176e-03,  2.8375e-02, -8.7443e-02,  2.5298e-39,\n",
            "          7.0333e-39,  7.3526e-40,  1.1936e-40, -1.2494e-03, -2.5459e-39,\n",
            "         -8.5651e-11, -2.1453e-02, -2.0831e-02, -1.5560e-02,  1.4719e-39,\n",
            "         -1.5578e-39, -2.5732e-05,  3.3703e-39,  1.7790e-02, -4.2618e-39,\n",
            "          4.8189e-02,  4.5154e-02, -6.0755e-02, -1.2663e-01, -2.5752e-39,\n",
            "         -3.0343e-03, -5.1688e-41, -9.2748e-09, -9.6780e-26,  4.1300e-39],\n",
            "        [ 2.0211e-39, -7.1718e-23, -1.1098e-06, -6.2593e-03,  1.3892e-33,\n",
            "          1.7099e-39, -4.5659e-40, -7.9103e-40, -4.7803e-05, -8.9375e-40,\n",
            "          6.1943e-39, -1.1354e-02, -1.4440e-02, -3.9629e-23,  3.7140e-39,\n",
            "          6.6417e-38, -7.2459e-40, -2.0567e-39,  2.4136e-39, -5.8511e-39,\n",
            "         -6.3423e-37, -5.0740e-18, -2.8869e-06, -7.7098e-03, -3.8443e-07,\n",
            "         -5.3088e-09, -4.3012e-39, -5.4707e-39,  2.7791e-39, -5.7283e-39]],\n",
            "       requires_grad=True), Parameter containing:\n",
            "tensor([-2.3647e-01,  2.6217e-01, -2.3879e-01, -2.4839e-01, -7.1253e-01,\n",
            "         1.6192e-01,  2.0884e-01, -2.7948e-01, -3.5443e-01,  4.6269e-01,\n",
            "        -1.6155e-01,  4.0396e-01, -3.2251e-01, -4.7960e-02, -2.8362e-07,\n",
            "         1.7838e-39], requires_grad=True), Parameter containing:\n",
            "tensor([[-1.0056e-03, -1.9923e-02, -1.2307e-02, -6.3629e-39, -1.5146e-01,\n",
            "         -8.3227e-03, -1.4605e-02,  5.6236e-39, -1.7409e-01, -1.4033e-01,\n",
            "         -2.0963e-01,  7.8676e-02,  1.6707e-01,  2.2076e-01,  1.9598e-02,\n",
            "          2.7223e-39],\n",
            "        [ 6.7933e-02, -1.9418e-01,  4.5665e-02, -1.3738e-02,  4.7028e-02,\n",
            "          1.5893e-01,  5.4474e-39, -1.0806e-39,  6.6284e-02, -4.4266e-01,\n",
            "         -4.0546e-02, -4.4392e-02, -1.7407e-01,  2.1507e-01,  2.2949e-39,\n",
            "          4.8448e-39],\n",
            "        [ 2.4244e-01, -4.2946e-02,  1.4325e-01,  1.5105e-01,  3.4535e-01,\n",
            "         -1.0658e-01, -4.5576e-02, -1.0371e-01,  2.3894e-01,  4.0900e-02,\n",
            "         -2.2758e-02, -1.4072e-02,  2.2750e-01,  8.9777e-02,  4.9458e-02,\n",
            "         -5.5539e-03],\n",
            "        [-1.1620e-01,  6.2936e-02,  3.8095e-03, -2.0159e-01, -2.5792e-02,\n",
            "          3.8863e-02,  1.8662e-02, -4.1872e-02,  1.9635e-01,  9.2968e-02,\n",
            "         -2.9857e-01,  2.9503e-01,  1.5649e-01,  1.0499e-01,  6.3906e-02,\n",
            "          8.1450e-03],\n",
            "        [ 2.0507e-01,  2.1261e-02, -5.3396e-02, -2.5386e-01,  2.1425e-02,\n",
            "         -2.9036e-01,  1.2607e-01,  1.8256e-01,  2.8290e-02,  4.2993e-03,\n",
            "         -1.0562e-01,  1.1603e-01, -7.5608e-02, -9.3642e-02, -9.4458e-02,\n",
            "         -2.5997e-39],\n",
            "        [-4.8526e-04, -1.7605e-02, -8.4710e-05, -1.4637e-02, -8.8060e-03,\n",
            "         -1.5072e-03, -3.9677e-04, -1.3273e-03, -1.2929e-02, -1.3513e-02,\n",
            "         -3.0402e-04,  6.3755e-03, -1.7916e-03, -7.6058e-32,  1.5738e-39,\n",
            "          2.1246e-39],\n",
            "        [-1.2153e-01, -3.7752e-02,  4.1854e-02, -2.2178e-02,  1.7003e-01,\n",
            "          1.4352e-01,  7.2530e-02, -5.0750e-02, -1.0906e-01, -1.9574e-01,\n",
            "          6.6522e-02,  1.0674e-03,  2.1708e-01,  2.3036e-01,  3.6075e-02,\n",
            "         -4.5052e-42],\n",
            "        [ 6.5245e-02, -8.0649e-02, -2.1273e-01, -1.3543e-01, -3.1317e-01,\n",
            "          1.2629e-01, -1.2449e-01, -1.1640e-01, -5.0185e-02,  1.7424e-01,\n",
            "          6.8734e-02,  9.6543e-03, -1.8801e-02, -2.2852e-01,  1.5951e-39,\n",
            "          2.5270e-39],\n",
            "        [-1.2568e-01,  1.8336e-01, -1.6918e-01, -8.8117e-02,  1.8792e-01,\n",
            "          1.3626e-01,  1.0757e-01,  4.5943e-02, -1.1541e-01, -1.5003e-01,\n",
            "          1.0840e-01,  8.5145e-02, -6.3135e-02,  1.8816e-01, -1.0423e-01,\n",
            "         -4.8375e-38],\n",
            "        [ 1.6995e-01,  1.1463e-01, -1.0691e-01,  9.1855e-02, -1.1484e-01,\n",
            "          6.3784e-02,  1.8090e-01, -2.3527e-01, -1.1655e-01,  2.0466e-01,\n",
            "         -2.1212e-01, -6.1649e-02, -9.7446e-02, -4.5271e-02,  9.9639e-03,\n",
            "          1.1449e-07],\n",
            "        [ 4.1983e-02, -1.4883e-01, -2.7042e-02, -4.8245e-01, -3.5262e-01,\n",
            "          5.2569e-02, -1.4437e-03,  3.9614e-02, -3.7664e-02, -4.5670e-02,\n",
            "          1.9615e-01,  1.2983e-02,  1.9749e-01,  1.0907e-01,  1.6470e-02,\n",
            "          3.4471e-39],\n",
            "        [ 9.4412e-02, -5.5009e-02, -1.6023e-01,  7.7931e-02, -4.1104e-02,\n",
            "          1.7745e-01,  8.0634e-03,  5.7037e-03, -2.7883e-01,  1.8347e-01,\n",
            "         -5.5016e-02,  1.6592e-01, -9.1914e-02, -1.6939e-01, -3.2447e-39,\n",
            "         -4.3566e-39],\n",
            "        [ 1.1024e-01, -7.6352e-02,  5.8839e-02, -1.5533e-01, -1.0790e-01,\n",
            "         -3.9105e-01,  7.3300e-02,  2.2751e-02,  1.8473e-01, -6.2404e-02,\n",
            "          1.2847e-01,  1.2590e-01,  6.0126e-02, -1.3161e-01, -1.3608e-02,\n",
            "         -2.1977e-03],\n",
            "        [-1.2329e-01,  2.4069e-01,  4.2416e-02, -6.8913e-02, -1.8503e-01,\n",
            "          7.1783e-02, -1.8503e-01,  3.1603e-03, -1.1022e-01,  2.6476e-02,\n",
            "          3.1418e-02,  7.2265e-02, -4.6894e-02,  2.8291e-02, -6.1391e-02,\n",
            "         -5.4980e-39],\n",
            "        [-1.9195e-02,  2.2441e-01,  1.0299e-01, -5.6500e-02, -1.4109e-01,\n",
            "         -5.7545e-02, -1.4700e-01, -3.3733e-02, -1.9512e-01,  1.3375e-01,\n",
            "          1.8164e-01,  1.2296e-02, -1.0072e-01, -2.2301e-01, -6.1766e-39,\n",
            "         -1.8276e-39],\n",
            "        [ 2.5451e-22, -4.5726e-19, -2.5155e-22, -1.4614e-19,  4.5404e-17,\n",
            "         -5.4449e-19, -4.5600e-21,  6.2669e-19, -5.9128e-05, -1.2842e-06,\n",
            "         -1.6213e-20, -1.0286e-12, -1.6994e-06, -2.6001e-29, -5.0867e-39,\n",
            "         -2.7407e-39]], requires_grad=True), Parameter containing:\n",
            "tensor([-2.6868e-02, -2.0896e-01, -8.2485e-01,  5.0368e-01, -9.3474e-02,\n",
            "        -2.2210e-07, -9.8079e-02,  2.7658e-02,  9.6953e-02,  5.9051e-01,\n",
            "         3.0366e-01,  3.7865e-02, -5.6972e-01,  4.0052e-01,  2.9161e-01,\n",
            "         3.6678e-19], requires_grad=True), Parameter containing:\n",
            "tensor([[-1.1079e-01, -1.4580e-01, -1.0748e-01,  1.3409e-01, -3.0078e-03,\n",
            "         -1.1261e-02, -1.4403e-01,  2.5593e-02,  1.4230e-01,  2.4676e-01,\n",
            "          1.2596e-01,  1.4976e-01, -6.4545e-02,  1.8851e-01,  8.0682e-02,\n",
            "         -1.4701e-19]], requires_grad=True), Parameter containing:\n",
            "tensor([0.7191], requires_grad=True)]\n"
          ],
          "name": "stdout"
        }
      ]
    },
    {
      "cell_type": "code",
      "metadata": {
        "id": "rlxvLEjPb2PH",
        "outputId": "26e6fa50-1d72-4f7d-b4d1-549d1fa8899d",
        "colab": {
          "base_uri": "https://localhost:8080/",
          "height": 34
        }
      },
      "source": [
        "# 30 -> 16 -> 16 -> 1\n",
        "weights_0 = params[0]\n",
        "weights_0.shape"
      ],
      "execution_count": 40,
      "outputs": [
        {
          "output_type": "execute_result",
          "data": {
            "text/plain": [
              "torch.Size([16, 30])"
            ]
          },
          "metadata": {
            "tags": []
          },
          "execution_count": 40
        }
      ]
    },
    {
      "cell_type": "code",
      "metadata": {
        "id": "RaFOyRAEb5aD",
        "outputId": "0e61b9c2-74f2-4ee0-d7fb-987e6b0f427b",
        "colab": {
          "base_uri": "https://localhost:8080/",
          "height": 1000
        }
      },
      "source": [
        "print(weights_0)"
      ],
      "execution_count": 41,
      "outputs": [
        {
          "output_type": "stream",
          "text": [
            "Parameter containing:\n",
            "tensor([[-2.1691e-01, -1.6953e-01, -2.1162e-01,  4.1027e-02, -4.8567e-02,\n",
            "          7.1689e-02,  8.0329e-02, -1.3262e-01, -2.1249e-01,  2.9104e-01,\n",
            "         -4.8975e-02,  5.7479e-02, -1.0478e-01, -8.4665e-02, -4.7074e-04,\n",
            "         -2.7648e-01, -6.2739e-01, -6.2130e-02,  1.1480e-01,  3.2016e-03,\n",
            "         -3.0342e-02, -1.3882e-01, -7.1458e-02,  1.2867e-01,  4.2950e-01,\n",
            "          1.3945e-01, -1.3442e-01,  3.6647e-02,  2.5920e-01,  4.8288e-02],\n",
            "        [ 1.9285e-01,  2.1470e-01,  2.8646e-01,  1.0002e-01, -1.3017e-01,\n",
            "         -8.3916e-02, -4.5063e-02, -8.6925e-02, -1.5932e-03,  2.2462e-01,\n",
            "         -5.4426e-02, -1.1319e-01,  5.1726e-04,  1.7627e-01, -2.7512e-03,\n",
            "         -5.9564e-02, -2.3306e-02,  2.2674e-01,  1.4708e-01, -9.8360e-03,\n",
            "          9.2020e-02,  7.1132e-02,  1.8902e-01,  1.1297e-02,  6.7670e-02,\n",
            "         -2.0629e-01, -1.6052e-01,  5.8800e-02, -5.2096e-02, -1.6387e-01],\n",
            "        [-7.7391e-03, -1.0450e-02, -2.1673e-01, -9.0349e-02, -2.8732e-02,\n",
            "          6.3146e-02,  6.1570e-02,  3.1410e-02, -6.5502e-02,  3.0468e-01,\n",
            "          1.5099e-01,  9.0985e-02, -1.1834e-01,  2.5023e-02,  1.4740e-03,\n",
            "         -3.2115e-01,  4.6760e-02,  3.4715e-03,  3.9441e-01,  6.5152e-04,\n",
            "          4.3141e-02, -1.3703e-01, -5.5785e-02,  1.2435e-02, -3.0033e-01,\n",
            "         -6.6011e-02, -1.3972e-01,  1.3376e-01,  5.5897e-02, -2.9398e-02],\n",
            "        [-3.7169e-01,  4.6879e-02, -1.5426e-01,  8.9751e-02, -1.1911e-01,\n",
            "         -4.5364e-02, -5.3034e-03,  4.0785e-02,  1.3773e-01, -1.4255e-01,\n",
            "          1.6626e-01, -1.5403e-01,  3.8973e-02,  4.8138e-02,  1.7413e-03,\n",
            "          1.7726e-02,  1.8169e-02, -3.0362e-02,  1.7719e-01,  4.0879e-03,\n",
            "         -6.4660e-02, -1.5627e-01, -7.7957e-02,  1.4248e-02,  1.0963e-01,\n",
            "          6.6093e-02,  4.5448e-02,  2.6355e-01,  7.3603e-02,  4.3129e-01],\n",
            "        [-4.0406e-01, -2.5721e-02, -1.0891e-01, -1.4500e-01,  3.9089e-01,\n",
            "          1.3328e-01,  1.1745e-01, -3.3946e-01, -3.1069e-01,  2.6109e-01,\n",
            "         -1.7288e-01,  3.1555e-02, -1.2134e-02,  7.7385e-02,  3.0406e-02,\n",
            "         -3.4571e-01, -1.5370e-01, -2.3481e-01,  3.9032e-01,  2.2931e-01,\n",
            "         -2.6718e-01, -6.4778e-03, -1.4394e-01,  2.3356e-01,  2.6073e-02,\n",
            "         -8.8365e-02, -5.0443e-01, -2.5591e-01, -7.8112e-04,  4.9081e-01],\n",
            "        [ 1.3356e-02, -3.4050e-02,  1.0100e-01,  1.1728e-01,  1.4234e-01,\n",
            "          3.6978e-01, -7.2777e-02,  1.9577e-01,  2.1321e-01, -1.0333e-01,\n",
            "          1.0551e-01,  1.6053e-01, -1.1676e-01,  1.3373e-01, -1.6706e-03,\n",
            "          3.8041e-01,  1.7752e-01,  1.2159e-01, -2.2544e-01, -1.4297e-01,\n",
            "          8.2118e-02, -2.0330e-01,  2.4694e-02, -2.2950e-02,  3.1103e-02,\n",
            "         -7.4131e-02, -9.7655e-02,  7.2991e-02,  5.4394e-02, -2.6469e-01],\n",
            "        [ 2.1266e-01,  1.3008e-02,  3.1869e-01, -1.0963e-01, -2.9226e-01,\n",
            "         -1.5362e-01, -1.9892e-02,  5.0424e-02,  2.1501e-01,  1.5071e-02,\n",
            "         -1.1751e-01, -2.1853e-01,  5.7788e-02,  1.1566e-01, -7.7002e-04,\n",
            "         -2.3803e-02,  3.8741e-02, -9.9040e-03,  3.7134e-01, -5.5283e-03,\n",
            "          1.2736e-01, -8.0627e-02,  2.0390e-01, -1.0900e-01, -2.1792e-01,\n",
            "          1.4006e-01,  1.9782e-01, -1.9000e-01, -2.6952e-01,  3.8057e-02],\n",
            "        [-2.8675e-01, -3.8504e-02, -1.3592e-01, -1.6934e-01,  2.4882e-01,\n",
            "          5.6289e-02, -2.2765e-02, -2.9625e-02, -1.5723e-01, -5.3103e-02,\n",
            "         -1.1365e-01, -1.0867e-01,  8.1326e-02,  9.3566e-02, -2.0048e-03,\n",
            "         -1.2424e-02, -1.1608e-01,  1.2357e-01, -2.9775e-01,  4.7588e-03,\n",
            "         -2.0329e-01,  5.8938e-02, -2.8326e-01,  1.0735e-01, -1.1281e-01,\n",
            "         -7.1199e-02,  6.1989e-02,  9.4118e-04, -5.4991e-02,  4.1320e-02],\n",
            "        [ 2.6310e-02, -1.2925e-01, -3.7529e-01, -4.0874e-02,  3.4777e-01,\n",
            "          1.4374e-01, -4.3709e-01, -9.2318e-02,  1.9245e-01, -8.5032e-02,\n",
            "          1.5499e-01, -7.9943e-02,  1.1386e-01,  6.1337e-03,  7.3821e-03,\n",
            "          4.9287e-02, -5.8465e-02, -3.7839e-01,  3.8087e-01,  2.3224e-02,\n",
            "         -2.1886e-01,  1.1107e-02, -2.7856e-01,  2.2571e-01,  1.5090e-01,\n",
            "          1.2356e-01, -5.8795e-02,  2.3766e-01,  1.1521e-01,  2.7853e-01],\n",
            "        [-8.7271e-03,  1.5813e-01,  3.0288e-01,  1.5016e-02, -2.8050e-01,\n",
            "         -1.4325e-01, -5.3229e-02,  1.1170e-01, -2.7302e-02,  5.1054e-02,\n",
            "          1.1810e-01, -1.7160e-01,  1.5603e-01, -2.5863e-01, -8.2127e-03,\n",
            "          9.9019e-02,  2.4027e-01,  1.8472e-01,  1.4198e-01, -2.2997e-01,\n",
            "          1.9520e-01, -1.3871e-01,  3.1924e-01, -8.5996e-02,  2.1187e-02,\n",
            "          4.7288e-02,  1.3599e-02, -1.3586e-01,  9.5487e-02, -2.0151e-01],\n",
            "        [-8.4713e-02,  3.6925e-02,  8.3781e-02,  1.2586e-02, -3.7918e-02,\n",
            "         -6.7847e-02, -7.4526e-02, -1.2271e-01,  1.4535e-01,  2.3062e-03,\n",
            "         -6.2940e-02,  4.2449e-04, -1.1056e-01,  1.8411e-01, -2.2434e-03,\n",
            "         -2.3891e-01, -4.5094e-02, -1.4564e-01, -1.9788e-01, -1.5357e-03,\n",
            "         -1.6615e-01, -2.0906e-02,  8.9885e-02,  1.2563e-01,  2.9212e-01,\n",
            "         -4.0260e-01,  2.9932e-01,  2.1790e-01, -1.6421e-01,  1.5110e-05],\n",
            "        [ 9.0729e-02, -3.7222e-02,  1.0722e-01,  1.3199e-01, -3.0497e-02,\n",
            "          3.5126e-01, -1.5554e-01,  1.6551e-01,  1.9558e-01, -1.7115e-01,\n",
            "          9.3587e-03,  8.8340e-02, -1.8632e-02, -3.3677e-01, -1.6941e-02,\n",
            "          5.3056e-01,  5.7412e-02,  4.2663e-01, -1.8495e-01, -2.3752e-01,\n",
            "          2.0819e-01, -7.7501e-02,  2.8284e-01, -1.4764e-01, -3.0477e-01,\n",
            "          1.2661e-01, -1.2021e-02, -1.2761e-02,  1.2600e-01, -4.5989e-01],\n",
            "        [ 1.1820e-01,  9.3685e-02, -2.8378e-01, -7.2141e-02,  1.9439e-01,\n",
            "          1.6830e-01,  2.3930e-01,  6.7901e-03, -7.5279e-02, -2.1543e-01,\n",
            "          1.3046e-01, -5.1667e-02,  1.0793e-01,  9.4207e-02,  5.3389e-05,\n",
            "         -4.6706e-02, -9.8082e-03, -5.3374e-03, -3.5472e-01,  2.0810e-01,\n",
            "          6.6061e-02,  1.9335e-01, -4.1411e-02,  4.5394e-02, -1.1975e-01,\n",
            "          8.4119e-02, -4.6768e-02, -1.3712e-01,  4.2929e-02,  3.1409e-01],\n",
            "        [ 9.3903e-02, -1.0137e-01, -1.1045e-01,  1.1843e-02,  1.0902e-02,\n",
            "         -3.6783e-02, -1.2289e-01,  7.6017e-02, -8.3862e-02, -1.9902e-01,\n",
            "          1.6041e-01, -8.4592e-02, -1.5870e-01,  1.2535e-01,  2.1719e-03,\n",
            "          1.1112e-02,  1.4812e-01, -2.1761e-01,  4.5662e-01,  2.1494e-03,\n",
            "          1.3319e-01, -2.1982e-02, -8.6457e-02,  1.4490e-01, -6.5905e-02,\n",
            "         -1.0874e-01, -7.3156e-02,  8.5436e-02,  6.4671e-02, -1.2746e-02],\n",
            "        [ 4.6888e-02, -8.6176e-03,  2.8375e-02, -8.7443e-02,  2.5298e-39,\n",
            "          7.0333e-39,  7.3526e-40,  1.1936e-40, -1.2494e-03, -2.5459e-39,\n",
            "         -8.5651e-11, -2.1453e-02, -2.0831e-02, -1.5560e-02,  1.4719e-39,\n",
            "         -1.5578e-39, -2.5732e-05,  3.3703e-39,  1.7790e-02, -4.2618e-39,\n",
            "          4.8189e-02,  4.5154e-02, -6.0755e-02, -1.2663e-01, -2.5752e-39,\n",
            "         -3.0343e-03, -5.1688e-41, -9.2748e-09, -9.6780e-26,  4.1300e-39],\n",
            "        [ 2.0211e-39, -7.1718e-23, -1.1098e-06, -6.2593e-03,  1.3892e-33,\n",
            "          1.7099e-39, -4.5659e-40, -7.9103e-40, -4.7803e-05, -8.9375e-40,\n",
            "          6.1943e-39, -1.1354e-02, -1.4440e-02, -3.9629e-23,  3.7140e-39,\n",
            "          6.6417e-38, -7.2459e-40, -2.0567e-39,  2.4136e-39, -5.8511e-39,\n",
            "         -6.3423e-37, -5.0740e-18, -2.8869e-06, -7.7098e-03, -3.8443e-07,\n",
            "         -5.3088e-09, -4.3012e-39, -5.4707e-39,  2.7791e-39, -5.7283e-39]],\n",
            "       requires_grad=True)\n"
          ],
          "name": "stdout"
        }
      ]
    },
    {
      "cell_type": "code",
      "metadata": {
        "id": "ilGYT_HqcQTU",
        "outputId": "84713ed5-4557-44c3-85c5-cd48ccd5badb",
        "colab": {
          "base_uri": "https://localhost:8080/",
          "height": 34
        }
      },
      "source": [
        "bias_0 = params[1]\n",
        "bias_0.shape"
      ],
      "execution_count": 43,
      "outputs": [
        {
          "output_type": "execute_result",
          "data": {
            "text/plain": [
              "torch.Size([16])"
            ]
          },
          "metadata": {
            "tags": []
          },
          "execution_count": 43
        }
      ]
    },
    {
      "cell_type": "code",
      "metadata": {
        "id": "L7ZrxuXwcV0h",
        "outputId": "7e4d2106-249d-4600-9304-c78ca8d510a0",
        "colab": {
          "base_uri": "https://localhost:8080/",
          "height": 101
        }
      },
      "source": [
        "print(bias_0)"
      ],
      "execution_count": 44,
      "outputs": [
        {
          "output_type": "stream",
          "text": [
            "Parameter containing:\n",
            "tensor([-2.3647e-01,  2.6217e-01, -2.3879e-01, -2.4839e-01, -7.1253e-01,\n",
            "         1.6192e-01,  2.0884e-01, -2.7948e-01, -3.5443e-01,  4.6269e-01,\n",
            "        -1.6155e-01,  4.0396e-01, -3.2251e-01, -4.7960e-02, -2.8362e-07,\n",
            "         1.7838e-39], requires_grad=True)\n"
          ],
          "name": "stdout"
        }
      ]
    },
    {
      "cell_type": "code",
      "metadata": {
        "id": "pCp9WU_8cfnR",
        "outputId": "2c9fff6c-5e64-48fe-94de-3ff5cab668fa",
        "colab": {
          "base_uri": "https://localhost:8080/",
          "height": 34
        }
      },
      "source": [
        "# 30 -> 16 -> 16 -> 1\n",
        "weights_1 = params[2]\n",
        "weights_1.shape"
      ],
      "execution_count": 46,
      "outputs": [
        {
          "output_type": "execute_result",
          "data": {
            "text/plain": [
              "torch.Size([16, 16])"
            ]
          },
          "metadata": {
            "tags": []
          },
          "execution_count": 46
        }
      ]
    },
    {
      "cell_type": "code",
      "metadata": {
        "id": "k685MmpzcqSy",
        "outputId": "01a5e33c-9a05-426f-d614-4c923244ef17",
        "colab": {
          "base_uri": "https://localhost:8080/",
          "height": 34
        }
      },
      "source": [
        "bias_1 = params[3]\n",
        "bias_1.shape"
      ],
      "execution_count": 47,
      "outputs": [
        {
          "output_type": "execute_result",
          "data": {
            "text/plain": [
              "torch.Size([16])"
            ]
          },
          "metadata": {
            "tags": []
          },
          "execution_count": 47
        }
      ]
    },
    {
      "cell_type": "markdown",
      "metadata": {
        "id": "o5jIT86YcuU3"
      },
      "source": [
        "## Model Evaluation"
      ]
    },
    {
      "cell_type": "code",
      "metadata": {
        "id": "fg4-SM9WcyDJ",
        "outputId": "f1fce91a-5af7-4bcd-bfc7-21674a853346",
        "colab": {
          "base_uri": "https://localhost:8080/",
          "height": 151
        }
      },
      "source": [
        "classifier.eval() # We change the MODE of the classifier (turn off math operations that update the weights)"
      ],
      "execution_count": 48,
      "outputs": [
        {
          "output_type": "execute_result",
          "data": {
            "text/plain": [
              "Sequential(\n",
              "  (0): Linear(in_features=30, out_features=16, bias=True)\n",
              "  (1): ReLU()\n",
              "  (2): Linear(in_features=16, out_features=16, bias=True)\n",
              "  (3): ReLU()\n",
              "  (4): Linear(in_features=16, out_features=1, bias=True)\n",
              "  (5): Sigmoid()\n",
              ")"
            ]
          },
          "metadata": {
            "tags": []
          },
          "execution_count": 48
        }
      ]
    },
    {
      "cell_type": "code",
      "metadata": {
        "id": "D7w255Lic-Wk",
        "outputId": "3f7f8083-8de9-48f6-af16-a1f14122d354",
        "colab": {
          "base_uri": "https://localhost:8080/",
          "height": 34
        }
      },
      "source": [
        "type(predictors_test)"
      ],
      "execution_count": 49,
      "outputs": [
        {
          "output_type": "execute_result",
          "data": {
            "text/plain": [
              "pandas.core.frame.DataFrame"
            ]
          },
          "metadata": {
            "tags": []
          },
          "execution_count": 49
        }
      ]
    },
    {
      "cell_type": "code",
      "metadata": {
        "id": "tYmu5E7ddBIc"
      },
      "source": [
        "predictors_test = torch.tensor(np.array(predictors_test), dtype=torch.float)"
      ],
      "execution_count": 50,
      "outputs": []
    },
    {
      "cell_type": "code",
      "metadata": {
        "id": "iExuc84LdLxR",
        "outputId": "eeac1b5b-0195-400f-cbaf-4634a1025df5",
        "colab": {
          "base_uri": "https://localhost:8080/",
          "height": 34
        }
      },
      "source": [
        "type(predictors_test)"
      ],
      "execution_count": 51,
      "outputs": [
        {
          "output_type": "execute_result",
          "data": {
            "text/plain": [
              "torch.Tensor"
            ]
          },
          "metadata": {
            "tags": []
          },
          "execution_count": 51
        }
      ]
    },
    {
      "cell_type": "code",
      "metadata": {
        "id": "V0q3QuFqdXKf"
      },
      "source": [
        "predictions = classifier.forward(predictors_test)"
      ],
      "execution_count": 52,
      "outputs": []
    },
    {
      "cell_type": "code",
      "metadata": {
        "id": "gvGWeysLdqLR",
        "outputId": "924301e3-a6b4-47a3-8a76-b6d4726fb46f",
        "colab": {
          "base_uri": "https://localhost:8080/",
          "height": 1000
        }
      },
      "source": [
        "predictions"
      ],
      "execution_count": 53,
      "outputs": [
        {
          "output_type": "execute_result",
          "data": {
            "text/plain": [
              "tensor([[9.8378e-01],\n",
              "        [1.0000e+00],\n",
              "        [7.5024e-03],\n",
              "        [8.1037e-01],\n",
              "        [8.0082e-05],\n",
              "        [7.4078e-01],\n",
              "        [6.9757e-01],\n",
              "        [9.9950e-01],\n",
              "        [4.0166e-01],\n",
              "        [4.8078e-01],\n",
              "        [9.2429e-01],\n",
              "        [9.9599e-01],\n",
              "        [9.6478e-01],\n",
              "        [9.8459e-01],\n",
              "        [6.9368e-01],\n",
              "        [4.0131e-01],\n",
              "        [9.8351e-01],\n",
              "        [1.0000e+00],\n",
              "        [4.3887e-01],\n",
              "        [9.9154e-01],\n",
              "        [8.7548e-10],\n",
              "        [5.1082e-03],\n",
              "        [2.3758e-01],\n",
              "        [1.0000e+00],\n",
              "        [7.4136e-01],\n",
              "        [2.0102e-03],\n",
              "        [2.7345e-01],\n",
              "        [1.0000e+00],\n",
              "        [1.6772e-04],\n",
              "        [9.9337e-01],\n",
              "        [1.7626e-01],\n",
              "        [9.9969e-01],\n",
              "        [6.8448e-01],\n",
              "        [9.4162e-01],\n",
              "        [8.3841e-03],\n",
              "        [9.9253e-01],\n",
              "        [2.0310e-01],\n",
              "        [9.9528e-01],\n",
              "        [9.9858e-01],\n",
              "        [3.3898e-05],\n",
              "        [7.7274e-03],\n",
              "        [5.2976e-01],\n",
              "        [4.0029e-07],\n",
              "        [1.5170e-01],\n",
              "        [2.1851e-04],\n",
              "        [4.9258e-01],\n",
              "        [5.5677e-05],\n",
              "        [0.0000e+00],\n",
              "        [3.4934e-01],\n",
              "        [1.2939e-02],\n",
              "        [8.5990e-01],\n",
              "        [2.3546e-14],\n",
              "        [8.9593e-01],\n",
              "        [9.1739e-01],\n",
              "        [9.7710e-01],\n",
              "        [2.2317e-01],\n",
              "        [9.9885e-01],\n",
              "        [1.4687e-07],\n",
              "        [6.4764e-05],\n",
              "        [8.6963e-01],\n",
              "        [8.5392e-05],\n",
              "        [9.9220e-01],\n",
              "        [9.8676e-01],\n",
              "        [9.9382e-01],\n",
              "        [4.1065e-01],\n",
              "        [5.4557e-08],\n",
              "        [1.0000e+00],\n",
              "        [1.0000e+00],\n",
              "        [1.0000e+00],\n",
              "        [4.9326e-01],\n",
              "        [1.0000e+00],\n",
              "        [8.8297e-01],\n",
              "        [3.4708e-02],\n",
              "        [6.6200e-01],\n",
              "        [9.2778e-04],\n",
              "        [9.7927e-01],\n",
              "        [6.2922e-01],\n",
              "        [4.7435e-10],\n",
              "        [7.5873e-06],\n",
              "        [2.5098e-01],\n",
              "        [7.7764e-01],\n",
              "        [1.1567e-05],\n",
              "        [7.1391e-07],\n",
              "        [9.7684e-01],\n",
              "        [1.0000e+00],\n",
              "        [1.0000e+00],\n",
              "        [4.9380e-02],\n",
              "        [9.8615e-01],\n",
              "        [1.8412e-03],\n",
              "        [5.3468e-01],\n",
              "        [6.3494e-03],\n",
              "        [9.0348e-01],\n",
              "        [9.7105e-01],\n",
              "        [1.4298e-03],\n",
              "        [9.8707e-01],\n",
              "        [9.9992e-01],\n",
              "        [9.9715e-01],\n",
              "        [9.9339e-01],\n",
              "        [1.6817e-02],\n",
              "        [1.0000e+00],\n",
              "        [9.9952e-01],\n",
              "        [1.0000e+00],\n",
              "        [9.8988e-01],\n",
              "        [9.8187e-01],\n",
              "        [7.2687e-01],\n",
              "        [1.0000e+00],\n",
              "        [1.0000e+00],\n",
              "        [9.9358e-01],\n",
              "        [1.0000e+00],\n",
              "        [9.8977e-01],\n",
              "        [1.0000e+00],\n",
              "        [1.0000e+00],\n",
              "        [4.3636e-01],\n",
              "        [4.9801e-06],\n",
              "        [8.5350e-01],\n",
              "        [1.5371e-04],\n",
              "        [9.9456e-01],\n",
              "        [2.5530e-04],\n",
              "        [9.9355e-01],\n",
              "        [9.7867e-01],\n",
              "        [6.8638e-01],\n",
              "        [5.3958e-01],\n",
              "        [9.9971e-01],\n",
              "        [9.9669e-01],\n",
              "        [6.2727e-07],\n",
              "        [9.7110e-01],\n",
              "        [1.9988e-04],\n",
              "        [1.3196e-01],\n",
              "        [1.0000e+00],\n",
              "        [9.3520e-01],\n",
              "        [7.9986e-09],\n",
              "        [7.9564e-01],\n",
              "        [1.0000e+00],\n",
              "        [9.2721e-03],\n",
              "        [3.3994e-08],\n",
              "        [8.7456e-01],\n",
              "        [9.6056e-01],\n",
              "        [9.9830e-01],\n",
              "        [2.5355e-02],\n",
              "        [3.3445e-05],\n",
              "        [1.2665e-05],\n",
              "        [9.7012e-01],\n",
              "        [5.4221e-11]], grad_fn=<SigmoidBackward>)"
            ]
          },
          "metadata": {
            "tags": []
          },
          "execution_count": 53
        }
      ]
    },
    {
      "cell_type": "code",
      "metadata": {
        "id": "BU__Gwetd7GV",
        "outputId": "cf147f5b-1d47-41af-938f-abce9ce63f75",
        "colab": {
          "base_uri": "https://localhost:8080/",
          "height": 1000
        }
      },
      "source": [
        "predictions = np.array(predictions > 0.5)\n",
        "predictions"
      ],
      "execution_count": 54,
      "outputs": [
        {
          "output_type": "execute_result",
          "data": {
            "text/plain": [
              "array([[ True],\n",
              "       [ True],\n",
              "       [False],\n",
              "       [ True],\n",
              "       [False],\n",
              "       [ True],\n",
              "       [ True],\n",
              "       [ True],\n",
              "       [False],\n",
              "       [False],\n",
              "       [ True],\n",
              "       [ True],\n",
              "       [ True],\n",
              "       [ True],\n",
              "       [ True],\n",
              "       [False],\n",
              "       [ True],\n",
              "       [ True],\n",
              "       [False],\n",
              "       [ True],\n",
              "       [False],\n",
              "       [False],\n",
              "       [False],\n",
              "       [ True],\n",
              "       [ True],\n",
              "       [False],\n",
              "       [False],\n",
              "       [ True],\n",
              "       [False],\n",
              "       [ True],\n",
              "       [False],\n",
              "       [ True],\n",
              "       [ True],\n",
              "       [ True],\n",
              "       [False],\n",
              "       [ True],\n",
              "       [False],\n",
              "       [ True],\n",
              "       [ True],\n",
              "       [False],\n",
              "       [False],\n",
              "       [ True],\n",
              "       [False],\n",
              "       [False],\n",
              "       [False],\n",
              "       [False],\n",
              "       [False],\n",
              "       [False],\n",
              "       [False],\n",
              "       [False],\n",
              "       [ True],\n",
              "       [False],\n",
              "       [ True],\n",
              "       [ True],\n",
              "       [ True],\n",
              "       [False],\n",
              "       [ True],\n",
              "       [False],\n",
              "       [False],\n",
              "       [ True],\n",
              "       [False],\n",
              "       [ True],\n",
              "       [ True],\n",
              "       [ True],\n",
              "       [False],\n",
              "       [False],\n",
              "       [ True],\n",
              "       [ True],\n",
              "       [ True],\n",
              "       [False],\n",
              "       [ True],\n",
              "       [ True],\n",
              "       [False],\n",
              "       [ True],\n",
              "       [False],\n",
              "       [ True],\n",
              "       [ True],\n",
              "       [False],\n",
              "       [False],\n",
              "       [False],\n",
              "       [ True],\n",
              "       [False],\n",
              "       [False],\n",
              "       [ True],\n",
              "       [ True],\n",
              "       [ True],\n",
              "       [False],\n",
              "       [ True],\n",
              "       [False],\n",
              "       [ True],\n",
              "       [False],\n",
              "       [ True],\n",
              "       [ True],\n",
              "       [False],\n",
              "       [ True],\n",
              "       [ True],\n",
              "       [ True],\n",
              "       [ True],\n",
              "       [False],\n",
              "       [ True],\n",
              "       [ True],\n",
              "       [ True],\n",
              "       [ True],\n",
              "       [ True],\n",
              "       [ True],\n",
              "       [ True],\n",
              "       [ True],\n",
              "       [ True],\n",
              "       [ True],\n",
              "       [ True],\n",
              "       [ True],\n",
              "       [ True],\n",
              "       [False],\n",
              "       [False],\n",
              "       [ True],\n",
              "       [False],\n",
              "       [ True],\n",
              "       [False],\n",
              "       [ True],\n",
              "       [ True],\n",
              "       [ True],\n",
              "       [ True],\n",
              "       [ True],\n",
              "       [ True],\n",
              "       [False],\n",
              "       [ True],\n",
              "       [False],\n",
              "       [False],\n",
              "       [ True],\n",
              "       [ True],\n",
              "       [False],\n",
              "       [ True],\n",
              "       [ True],\n",
              "       [False],\n",
              "       [False],\n",
              "       [ True],\n",
              "       [ True],\n",
              "       [ True],\n",
              "       [False],\n",
              "       [False],\n",
              "       [False],\n",
              "       [ True],\n",
              "       [False]])"
            ]
          },
          "metadata": {
            "tags": []
          },
          "execution_count": 54
        }
      ]
    },
    {
      "cell_type": "code",
      "metadata": {
        "id": "iDcVfoHXeNtE",
        "outputId": "5082e27a-b348-43f7-9380-9da4a0360682",
        "colab": {
          "base_uri": "https://localhost:8080/",
          "height": 195
        }
      },
      "source": [
        "classes_test.head()"
      ],
      "execution_count": 55,
      "outputs": [
        {
          "output_type": "execute_result",
          "data": {
            "text/html": [
              "<div>\n",
              "<style scoped>\n",
              "    .dataframe tbody tr th:only-of-type {\n",
              "        vertical-align: middle;\n",
              "    }\n",
              "\n",
              "    .dataframe tbody tr th {\n",
              "        vertical-align: top;\n",
              "    }\n",
              "\n",
              "    .dataframe thead th {\n",
              "        text-align: right;\n",
              "    }\n",
              "</style>\n",
              "<table border=\"1\" class=\"dataframe\">\n",
              "  <thead>\n",
              "    <tr style=\"text-align: right;\">\n",
              "      <th></th>\n",
              "      <th>0</th>\n",
              "    </tr>\n",
              "  </thead>\n",
              "  <tbody>\n",
              "    <tr>\n",
              "      <th>333</th>\n",
              "      <td>1</td>\n",
              "    </tr>\n",
              "    <tr>\n",
              "      <th>273</th>\n",
              "      <td>1</td>\n",
              "    </tr>\n",
              "    <tr>\n",
              "      <th>201</th>\n",
              "      <td>0</td>\n",
              "    </tr>\n",
              "    <tr>\n",
              "      <th>178</th>\n",
              "      <td>1</td>\n",
              "    </tr>\n",
              "    <tr>\n",
              "      <th>85</th>\n",
              "      <td>0</td>\n",
              "    </tr>\n",
              "  </tbody>\n",
              "</table>\n",
              "</div>"
            ],
            "text/plain": [
              "     0\n",
              "333  1\n",
              "273  1\n",
              "201  0\n",
              "178  1\n",
              "85   0"
            ]
          },
          "metadata": {
            "tags": []
          },
          "execution_count": 55
        }
      ]
    },
    {
      "cell_type": "code",
      "metadata": {
        "id": "O3TI3_ujeXaX",
        "outputId": "17130b0e-320f-444d-af00-0de06a7a0386",
        "colab": {
          "base_uri": "https://localhost:8080/",
          "height": 34
        }
      },
      "source": [
        "hit_rate = accuracy_score(classes_test, predictions)\n",
        "hit_rate"
      ],
      "execution_count": 56,
      "outputs": [
        {
          "output_type": "execute_result",
          "data": {
            "text/plain": [
              "0.8811188811188811"
            ]
          },
          "metadata": {
            "tags": []
          },
          "execution_count": 56
        }
      ]
    },
    {
      "cell_type": "code",
      "metadata": {
        "id": "5tpKn3n_ep00",
        "outputId": "aa4728cc-5316-475c-892b-e983a70853b6",
        "colab": {
          "base_uri": "https://localhost:8080/",
          "height": 50
        }
      },
      "source": [
        "matrix = confusion_matrix(classes_test, predictions)\n",
        "matrix"
      ],
      "execution_count": 57,
      "outputs": [
        {
          "output_type": "execute_result",
          "data": {
            "text/plain": [
              "array([[48,  6],\n",
              "       [11, 78]])"
            ]
          },
          "metadata": {
            "tags": []
          },
          "execution_count": 57
        }
      ]
    },
    {
      "cell_type": "code",
      "metadata": {
        "id": "UIhwa3wLe1m3",
        "outputId": "edf5146a-e95e-4009-81ea-4372a8d113e0",
        "colab": {
          "base_uri": "https://localhost:8080/",
          "height": 265
        }
      },
      "source": [
        "sns.heatmap(matrix, annot=True);"
      ],
      "execution_count": 58,
      "outputs": [
        {
          "output_type": "display_data",
          "data": {
            "image/png": "[encoded data removed]",
            "text/plain": [
              "<Figure size 432x288 with 2 Axes>"
            ]
          },
          "metadata": {
            "tags": [],
            "needs_background": "light"
          }
        }
      ]
    }
  ]
}